{
 "cells": [
  {
   "cell_type": "code",
   "execution_count": null,
   "id": "aa5e141a-fbed-49ab-8a63-55b4b2f4de68",
   "metadata": {
    "tags": []
   },
   "outputs": [],
   "source": [
    "# Based on AWS Sagemaker Jumpstart notebook from Stable-XL marketplace offer https://aws.amazon.com/marketplace/pp/prodview-pe7wqwehghdtm \n",
    "# and my previous post with the original stable diffusion model https://rahulaga.medium.com/from-words-to-pictures-text-to-image-generation-8512b61002fa\n",
    "# Subscribe to the AWS marketplace offer first. After you accept offer this should work in Sagemaker Studio"
   ]
  },
  {
   "cell_type": "code",
   "execution_count": null,
   "id": "6da1ca2f-f283-46f0-a367-7e19f9b82a23",
   "metadata": {
    "tags": []
   },
   "outputs": [],
   "source": [
    "#Setup\n",
    "!pip install 'stability-sdk[sagemaker] @ git+https://github.com/Stability-AI/stability-sdk.git@sagemaker'\n",
    "! pip install protobuf==3.20\n",
    "\n",
    "import sagemaker\n",
    "from sagemaker import ModelPackage, get_execution_role\n",
    "from stability_sdk_sagemaker.predictor import StabilityPredictor\n",
    "from stability_sdk_sagemaker.models import get_model_package_arn\n",
    "from stability_sdk.api import GenerationRequest, GenerationResponse, TextPrompt\n",
    "\n",
    "from PIL import Image\n",
    "from PIL import ImageDraw\n",
    "from typing import Union, Tuple\n",
    "import io\n",
    "import os\n",
    "import base64\n",
    "import boto3\n",
    "from sagemaker.utils import name_from_base"
   ]
  },
  {
   "cell_type": "code",
   "execution_count": null,
   "id": "f42510af-e1d8-4903-9fef-88783c6c4db6",
   "metadata": {
    "tags": []
   },
   "outputs": [],
   "source": [
    "#model ARNs based on region\n",
    "model_package_map = {\n",
    "    \"us-east-1\": \"arn:aws:sagemaker:us-east-1:865070037744:model-package/sdxl-v1-0-2042286-300c57d4fa1e39968d711d754640b0b6\",\n",
    "    \"us-east-2\": \"arn:aws:sagemaker:us-east-2:057799348421:model-package/sdxl-v1-0-2042286-300c57d4fa1e39968d711d754640b0b6\",\n",
    "    \"us-west-2\": \"arn:aws:sagemaker:us-west-2:594846645681:model-package/sdxl-v1-0-2042286-300c57d4fa1e39968d711d754640b0b6\",\n",
    "    \"ca-central-1\": \"arn:aws:sagemaker:ca-central-1:470592106596:model-package/sdxl-v1-0-2042286-300c57d4fa1e39968d711d754640b0b6\",\n",
    "    \"eu-central-1\": \"arn:aws:sagemaker:eu-central-1:446921602837:model-package/sdxl-v1-0-2042286-300c57d4fa1e39968d711d754640b0b6\",\n",
    "    \"eu-west-1\": \"arn:aws:sagemaker:eu-west-1:985815980388:model-package/sdxl-v1-0-2042286-300c57d4fa1e39968d711d754640b0b6\",\n",
    "    \"eu-west-2\": \"arn:aws:sagemaker:eu-west-2:856760150666:model-package/sdxl-v1-0-2042286-300c57d4fa1e39968d711d754640b0b6\",\n",
    "    \"ap-northeast-2\": \"arn:aws:sagemaker:ap-northeast-2:745090734665:model-package/sdxl-v1-0-2042286-300c57d4fa1e39968d711d754640b0b6\",\n",
    "    \"ap-northeast-1\": \"arn:aws:sagemaker:ap-northeast-1:977537786026:model-package/sdxl-v1-0-2042286-300c57d4fa1e39968d711d754640b0b6\",\n",
    "    \"ap-south-1\": \"arn:aws:sagemaker:ap-south-1:077584701553:model-package/sdxl-v1-0-2042286-300c57d4fa1e39968d711d754640b0b6\"\n",
    "}\n",
    "\n",
    "region = boto3.Session().region_name\n",
    "if region not in model_package_map.keys():\n",
    "    raise (\"UNSUPPORTED REGION\")\n",
    "package_arn = model_package_map[region]  # TODO\n",
    "\n",
    "role_arn = get_execution_role()\n",
    "sagemaker_session = sagemaker.Session()\n",
    "\n",
    "#This will add a model in your SageMaker > Models\n",
    "model = ModelPackage(role=role_arn,model_package_arn=package_arn,sagemaker_session=sagemaker_session,predictor_cls=StabilityPredictor)"
   ]
  },
  {
   "cell_type": "code",
   "execution_count": null,
   "id": "c1798bf9-8f4b-4ab6-9b7f-207f7c6a1a07",
   "metadata": {
    "tags": []
   },
   "outputs": [],
   "source": [
    "#Create endpoint\n",
    "endpoint_name=name_from_base('xl-jumpstart')\n",
    "\n",
    "# Deploy the ModelPackage. This will take 5-10 minutes to run\n",
    "\n",
    "instance_type=\"ml.g5.2xlarge\" # valid instance types for this model are ml.g5.2xlarge, p4d.24xlarge, and p4de.24xlarge\n",
    "deployed_model = model.deploy(initial_instance_count=1,instance_type=instance_type,endpoint_name=endpoint_name)\n",
    "\n",
    "#Its ready once progress bar ends with !\n",
    "#--------------!"
   ]
  },
  {
   "cell_type": "code",
   "execution_count": null,
   "id": "0ba60c5b-a6dd-4770-b851-1d09bf97b5b2",
   "metadata": {
    "tags": []
   },
   "outputs": [],
   "source": [
    "#Use with stability predictor\n",
    "deployed_model = StabilityPredictor(endpoint_name=endpoint_name, sagemaker_session=sagemaker_session)"
   ]
  },
  {
   "cell_type": "code",
   "execution_count": null,
   "id": "c5975d99-16a4-4dad-90a1-737bdbc0043c",
   "metadata": {
    "tags": []
   },
   "outputs": [],
   "source": [
    "#Run inference on this deployment\n",
    "#The Stability XL has many options but simplifying use similar to my old attempt. \n",
    "#This doc has the supported details: https://api.stability.ai/docs#tag/v1generation/operation/textToImage "
   ]
  },
  {
   "cell_type": "code",
   "execution_count": null,
   "id": "c47d2feb-a48b-44da-96d0-c1534b7d42f3",
   "metadata": {
    "tags": []
   },
   "outputs": [],
   "source": [
    "def decode_and_show(model_response: GenerationResponse, prompt) -> None:\n",
    "    \"\"\"\n",
    "    Decodes and displays an image from SDXL output along with prompt used\n",
    "    \"\"\"\n",
    "    image = model_response.artifacts[0].base64\n",
    "    image_data = base64.b64decode(image.encode())\n",
    "    image = Image.open(io.BytesIO(image_data))\n",
    "    \n",
    "    #add a title of the prompt\n",
    "    draw = ImageDraw.Draw(image)\n",
    "    position = (3, 3)\n",
    "    box = draw.textbbox(position, prompt)\n",
    "    draw.rectangle(box, fill=\"white\")\n",
    "    draw.text(position, prompt, fill=\"black\")\n",
    "    \n",
    "    display(image)\n",
    "        \n",
    "def generate_prompt(prompt, negative_prompts=[]):\n",
    "    output = deployed_model.predict(\n",
    "        GenerationRequest(text_prompts=[TextPrompt(text=prompt)], width=1024, height=1024,\n",
    "                         negative_prompts=negative_prompts))\n",
    "    decode_and_show(output, prompt)\n",
    "    \n",
    "def generate_multi_prompt(prompts, negative_prompts=[]):\n",
    "    \"\"\"\n",
    "    each prompt can be like [TextPrompt(text=prompt, weight=0.5)]\n",
    "    \"\"\"\n",
    "    #combine all prompts into a string for image title label\n",
    "    title=\"\"\n",
    "    for prompt in prompts:\n",
    "        title+=prompt.text + str(prompt.weight)\n",
    "    \n",
    "    #generate image\n",
    "    output = deployed_model.predict(\n",
    "        GenerationRequest(text_prompts=prompts, width=1024, height=1024,\n",
    "                         negative_prompts=negative_prompts))\n",
    "    \n",
    "    decode_and_show(output, title)"
   ]
  },
  {
   "cell_type": "code",
   "execution_count": null,
   "id": "ee8e89ea-674a-4fc2-9826-0209ce43258a",
   "metadata": {
    "tags": []
   },
   "outputs": [],
   "source": [
    "#Generate multi-prompt images"
   ]
  },
  {
   "cell_type": "code",
   "execution_count": null,
   "id": "35927bf0-7dd2-4d49-a8b1-4b6fd7565292",
   "metadata": {
    "tags": []
   },
   "outputs": [],
   "source": [
    "generate_multi_prompt(prompts=[TextPrompt(text=\"one small llama sitting and yawning in the park\", weight=4),\n",
    "                               TextPrompt(text=\"sunny day in a futuristic san francisco skyline in the background\", weight=5),\n",
    "                               TextPrompt(text=\"clouds\", weight=-1)])"
   ]
  },
  {
   "cell_type": "code",
   "execution_count": null,
   "id": "19e4c244-1f3d-41c5-a0f4-2e74db11c605",
   "metadata": {
    "tags": []
   },
   "outputs": [],
   "source": [
    "generate_multi_prompt(prompts=[TextPrompt(text=\"tall person\", weight=1),\n",
    "                               TextPrompt(text=\"the person is running around a track\", weight=2),\n",
    "                               TextPrompt(text=\"the person is holding a flower\", weight=1.5)])"
   ]
  },
  {
   "cell_type": "code",
   "execution_count": null,
   "id": "c23e6f2d-5158-4efd-af58-d3ecd5d28225",
   "metadata": {},
   "outputs": [],
   "source": [
    "#Generate some samples using same prompts as previously. See prior post: https://rahulaga.medium.com/from-words-to-pictures-text-to-image-generation-8512b61002fa"
   ]
  },
  {
   "cell_type": "code",
   "execution_count": null,
   "id": "206aa908-1413-4e37-8c60-07b8b463585a",
   "metadata": {
    "tags": []
   },
   "outputs": [],
   "source": [
    "generate_prompt(\"blue stuffy on a tree on a cloudy day with a lot of snow\")"
   ]
  },
  {
   "cell_type": "code",
   "execution_count": null,
   "id": "1f4c1861-8db5-4e76-87aa-aadfec657fe2",
   "metadata": {
    "tags": []
   },
   "outputs": [],
   "source": [
    "generate_prompt(\"draw van gogh flowers on a starry night\")"
   ]
  },
  {
   "cell_type": "code",
   "execution_count": null,
   "id": "fcc0d399-49c2-4ed5-9ca2-55fd476a0b6b",
   "metadata": {
    "tags": []
   },
   "outputs": [],
   "source": [
    "generate_prompt(\"yop\")"
   ]
  },
  {
   "cell_type": "code",
   "execution_count": null,
   "id": "c92e5161-f40b-4a60-b4bf-00f30256e963",
   "metadata": {
    "tags": []
   },
   "outputs": [],
   "source": [
    "generate_prompt(\"poop\")"
   ]
  },
  {
   "cell_type": "code",
   "execution_count": null,
   "id": "7ce0c029-b520-4a52-b3fb-da91e875c651",
   "metadata": {
    "tags": []
   },
   "outputs": [],
   "source": [
    "generate_prompt(\"cats looking realistic playing chess\")"
   ]
  },
  {
   "cell_type": "code",
   "execution_count": null,
   "id": "57544ded-29b3-44a4-b786-0ca26bc44e19",
   "metadata": {
    "tags": []
   },
   "outputs": [],
   "source": [
    "generate_prompt(\"80000000000000000000000000000000000000000000000000000000000000000000\")"
   ]
  },
  {
   "cell_type": "code",
   "execution_count": null,
   "id": "f2dd0211-b28a-4861-9556-8972e44c3015",
   "metadata": {
    "tags": []
   },
   "outputs": [],
   "source": [
    "generate_prompt(\"5876 poops\")"
   ]
  },
  {
   "cell_type": "code",
   "execution_count": null,
   "id": "ccfc8cff-97b3-438d-9bd0-717a7e13dbca",
   "metadata": {
    "tags": []
   },
   "outputs": [],
   "source": [
    "generate_prompt(\"sunny day, birds chirping, ocean waves, photo realistic\")"
   ]
  },
  {
   "cell_type": "code",
   "execution_count": null,
   "id": "748f6508-2ddd-4792-84aa-e1c24b01b78d",
   "metadata": {
    "tags": []
   },
   "outputs": [],
   "source": [
    "generate_prompt(\"lollipops with a face screaming\")"
   ]
  },
  {
   "cell_type": "code",
   "execution_count": null,
   "id": "a6c1dccc-cf20-46d8-81b3-6aa89d9fc287",
   "metadata": {
    "tags": []
   },
   "outputs": [],
   "source": [
    "generate_prompt(\"psychosis\")"
   ]
  },
  {
   "cell_type": "code",
   "execution_count": null,
   "id": "988c6a0b-f3a2-4b0d-9d70-a5af570eb7b7",
   "metadata": {
    "tags": []
   },
   "outputs": [],
   "source": [
    "generate_prompt(\"mental health and generative ai\")"
   ]
  },
  {
   "cell_type": "code",
   "execution_count": null,
   "id": "13a0d916-c7a2-40a1-a928-b2f711ce6162",
   "metadata": {
    "tags": []
   },
   "outputs": [],
   "source": [
    "generate_prompt(\"fractals of colorful eyes\")"
   ]
  },
  {
   "cell_type": "code",
   "execution_count": null,
   "id": "329bb110-198d-4f43-a580-7d9de3acd9b6",
   "metadata": {
    "tags": []
   },
   "outputs": [],
   "source": [
    "generate_prompt(\"fractals of fingers, greyscale with colorpop\")"
   ]
  },
  {
   "cell_type": "code",
   "execution_count": null,
   "id": "3185153e-735a-4a66-90e5-002617a3f30b",
   "metadata": {},
   "outputs": [],
   "source": [
    "#Emotions and gender"
   ]
  },
  {
   "cell_type": "code",
   "execution_count": null,
   "id": "c00385cf-1b4c-41f0-ab90-d5491cf32475",
   "metadata": {
    "tags": []
   },
   "outputs": [],
   "source": [
    "generate_prompt(\"an angry man pounding his fist and shouting\")"
   ]
  },
  {
   "cell_type": "code",
   "execution_count": null,
   "id": "cf58386c-1b72-4280-bfe7-55aae10b1e6d",
   "metadata": {},
   "outputs": [],
   "source": [
    "generate_prompt(\"happy woman walking on the beach with a dog at sunset\")"
   ]
  },
  {
   "cell_type": "code",
   "execution_count": null,
   "id": "34d88072-8593-46fb-b220-d29032ac02ba",
   "metadata": {
    "tags": []
   },
   "outputs": [],
   "source": [
    "generate_prompt(\"an nervous person as a cartoon\")"
   ]
  },
  {
   "cell_type": "code",
   "execution_count": null,
   "id": "e40412ef-8341-40f0-851b-b07d62b224d3",
   "metadata": {
    "tags": []
   },
   "outputs": [],
   "source": [
    "generate_prompt(\"a transgender woman waving hand\")"
   ]
  },
  {
   "cell_type": "code",
   "execution_count": null,
   "id": "10ddea7f-b1f6-4781-b06e-c1b93aaad1ab",
   "metadata": {
    "tags": []
   },
   "outputs": [],
   "source": [
    "generate_prompt(\"a transgender man holding a book\")"
   ]
  },
  {
   "cell_type": "code",
   "execution_count": null,
   "id": "4fa08327-4888-4a8b-a992-19f2af41b1ef",
   "metadata": {},
   "outputs": [],
   "source": [
    "#Cultural preferences and biases"
   ]
  },
  {
   "cell_type": "code",
   "execution_count": null,
   "id": "fa582bbe-80e5-4f9e-97c1-ca3de02c85b0",
   "metadata": {
    "tags": []
   },
   "outputs": [],
   "source": [
    "generate_prompt(\"a beautiful woman in 3d model style\")"
   ]
  },
  {
   "cell_type": "code",
   "execution_count": null,
   "id": "f16346e3-9f02-4594-8e21-6b14c55f8b44",
   "metadata": {
    "tags": []
   },
   "outputs": [],
   "source": [
    "generate_prompt(\"a beautiful woman in pixel art style\")"
   ]
  },
  {
   "cell_type": "code",
   "execution_count": null,
   "id": "d8113a62-66d9-4726-b54f-d1034746d8fa",
   "metadata": {
    "tags": []
   },
   "outputs": [],
   "source": [
    "generate_prompt(\"a beautiful asian woman in cinematic style\")"
   ]
  },
  {
   "cell_type": "code",
   "execution_count": null,
   "id": "a1cb23bd-0b70-4b2f-98ae-af387f045bf5",
   "metadata": {
    "tags": []
   },
   "outputs": [],
   "source": [
    "generate_prompt(\"a handsome man\")"
   ]
  },
  {
   "cell_type": "code",
   "execution_count": null,
   "id": "a540c36b-521f-4ed4-92aa-34cd3a70f2c4",
   "metadata": {
    "tags": []
   },
   "outputs": [],
   "source": [
    "generate_prompt(\"Indian wedding\")"
   ]
  },
  {
   "cell_type": "code",
   "execution_count": null,
   "id": "03a54529-f446-4cd6-8a89-d9f2b4e201c4",
   "metadata": {
    "tags": []
   },
   "outputs": [],
   "source": [
    "generate_prompt(\"henna on hand with fine detail\")"
   ]
  },
  {
   "cell_type": "code",
   "execution_count": null,
   "id": "229f4331-6714-4714-9170-43045c986f3d",
   "metadata": {
    "tags": []
   },
   "outputs": [],
   "source": [
    "generate_prompt(\"quinceañera celebration\")"
   ]
  },
  {
   "cell_type": "code",
   "execution_count": null,
   "id": "121aa195-4b7e-4d88-bd5d-219dd8092247",
   "metadata": {
    "tags": []
   },
   "outputs": [],
   "source": [
    "generate_prompt(\"doctor reviewing a chart\")"
   ]
  },
  {
   "cell_type": "code",
   "execution_count": null,
   "id": "e4736a51-aa7c-4375-945e-4865559009ff",
   "metadata": {},
   "outputs": [],
   "source": [
    "# this will fail - filtered words\n",
    "generate_prompt(\"ugly child\")"
   ]
  },
  {
   "cell_type": "code",
   "execution_count": null,
   "id": "8e419403-ba5a-478b-ac55-1bc6c2bb5973",
   "metadata": {},
   "outputs": [],
   "source": [
    "#Tangible objects"
   ]
  },
  {
   "cell_type": "code",
   "execution_count": null,
   "id": "beee9170-b346-45d7-a02d-54082d12ac81",
   "metadata": {
    "tags": []
   },
   "outputs": [],
   "source": [
    "generate_prompt(\"cars on the freeway\")"
   ]
  },
  {
   "cell_type": "code",
   "execution_count": null,
   "id": "909d70a9-909d-4259-b313-85b8cbd6066b",
   "metadata": {
    "tags": []
   },
   "outputs": [],
   "source": [
    "generate_prompt(\"old rotary phone\")"
   ]
  },
  {
   "cell_type": "code",
   "execution_count": null,
   "id": "e89d5077-9ff8-413f-8fe6-43c1f59d29d1",
   "metadata": {
    "tags": []
   },
   "outputs": [],
   "source": [
    "generate_prompt(\"boardgame with cards and 2 dice\")"
   ]
  },
  {
   "cell_type": "code",
   "execution_count": null,
   "id": "b6625c5a-adac-4999-a286-ca9ed0cccc8d",
   "metadata": {},
   "outputs": [],
   "source": [
    "#Intangibles"
   ]
  },
  {
   "cell_type": "code",
   "execution_count": null,
   "id": "d530eafd-d4a5-410f-ac64-41cd4d7f2634",
   "metadata": {
    "tags": []
   },
   "outputs": [],
   "source": [
    "generate_prompt(\"music\")"
   ]
  },
  {
   "cell_type": "code",
   "execution_count": null,
   "id": "1f1cb16a-4f9a-4df7-92ce-5dc7f0f801fb",
   "metadata": {
    "tags": []
   },
   "outputs": [],
   "source": [
    "generate_prompt(\"patent for generating software\")"
   ]
  },
  {
   "cell_type": "code",
   "execution_count": null,
   "id": "cdd4dce0-9043-48e4-8b78-f4e80436e172",
   "metadata": {
    "tags": []
   },
   "outputs": [],
   "source": [
    "generate_prompt(\"software\")"
   ]
  },
  {
   "cell_type": "code",
   "execution_count": null,
   "id": "267b1805-d0eb-49e3-b3bf-442b65d899d0",
   "metadata": {},
   "outputs": [],
   "source": [
    "#Famous persons and locations"
   ]
  },
  {
   "cell_type": "code",
   "execution_count": null,
   "id": "db8df1ad-7907-4c30-b8d1-9698654fccb8",
   "metadata": {
    "tags": []
   },
   "outputs": [],
   "source": [
    "generate_prompt(\"George Washington outside the White House\")"
   ]
  },
  {
   "cell_type": "code",
   "execution_count": null,
   "id": "e48d1cab-0e0b-498a-9991-1af0c7767357",
   "metadata": {
    "tags": []
   },
   "outputs": [],
   "source": [
    "generate_prompt(\"Beyonce and Taylor Swift at the Eiffel Tower\")"
   ]
  },
  {
   "cell_type": "code",
   "execution_count": null,
   "id": "ca75c788-7e5c-4745-9790-fd6672c1db16",
   "metadata": {
    "tags": []
   },
   "outputs": [],
   "source": [
    "generate_prompt(\"Einstein dancing with Cleopatra at the Taj Mahal\")"
   ]
  },
  {
   "cell_type": "code",
   "execution_count": null,
   "id": "856fa246-93a2-4f52-8489-c6658d5f1d42",
   "metadata": {},
   "outputs": [],
   "source": []
  },
  {
   "cell_type": "code",
   "execution_count": null,
   "id": "f81f9938-458b-434f-bda1-a24e883f9151",
   "metadata": {},
   "outputs": [],
   "source": [
    "#Fantasy and fiction"
   ]
  },
  {
   "cell_type": "code",
   "execution_count": null,
   "id": "3e13fa62-e104-4175-9f9c-8f11cdd7e6ee",
   "metadata": {},
   "outputs": [],
   "source": [
    "generate_prompt(\"terminator fighting with a cow\")"
   ]
  },
  {
   "cell_type": "code",
   "execution_count": null,
   "id": "674a247b-a38f-4847-bbca-c390cba47882",
   "metadata": {},
   "outputs": [],
   "source": [
    "generate_prompt(\"Superman and Darth Vader fist bump\")"
   ]
  },
  {
   "cell_type": "code",
   "execution_count": null,
   "id": "23d137f7-fe76-4648-8f2b-52d36a92272d",
   "metadata": {},
   "outputs": [],
   "source": [
    "generate_prompt(\"Mario with Mickey Mouse\")"
   ]
  },
  {
   "cell_type": "code",
   "execution_count": null,
   "id": "a9c4492f-682d-40c0-85f1-8ac10da23455",
   "metadata": {
    "tags": []
   },
   "outputs": [],
   "source": [
    "generate_prompt(\"Leaning tower of Pisa in times square\")"
   ]
  },
  {
   "cell_type": "code",
   "execution_count": null,
   "id": "95c5290f-f834-40b4-a674-e42d5455150e",
   "metadata": {
    "tags": []
   },
   "outputs": [],
   "source": [
    "generate_prompt(\"Children in the clouds\")"
   ]
  },
  {
   "cell_type": "code",
   "execution_count": null,
   "id": "1e0a4553-b92e-4439-a5cd-1252256c4b1b",
   "metadata": {},
   "outputs": [],
   "source": [
    "#Spanish"
   ]
  },
  {
   "cell_type": "code",
   "execution_count": null,
   "id": "bd000ade-cc10-48cc-87e8-b9076280cb8b",
   "metadata": {
    "tags": []
   },
   "outputs": [],
   "source": [
    "generate_prompt(\"estoy durmiendo y soñando con unicornios\") "
   ]
  },
  {
   "cell_type": "code",
   "execution_count": null,
   "id": "3033282f-05da-4099-9a8f-421440008314",
   "metadata": {
    "tags": []
   },
   "outputs": [],
   "source": [
    "generate_prompt(\"un salón de clases con un escritorio y sillas\")"
   ]
  },
  {
   "cell_type": "code",
   "execution_count": null,
   "id": "ef710753-351e-4eb8-9755-108ca8622154",
   "metadata": {
    "tags": []
   },
   "outputs": [],
   "source": [
    "generate_prompt(\"fiesta de cumpleaños con pastel y globos\") "
   ]
  },
  {
   "cell_type": "code",
   "execution_count": null,
   "id": "ca4d5932-6abd-4366-8a8f-c207ee80b0a0",
   "metadata": {},
   "outputs": [],
   "source": []
  },
  {
   "cell_type": "code",
   "execution_count": null,
   "id": "79c7df25-82eb-4c40-9a72-69fc1cc3c1cb",
   "metadata": {},
   "outputs": [],
   "source": [
    "generate_prompt(\"unattractive tall woman, long hair, brown eyes, photo real\", negative_prompts=[\"feet\"])"
   ]
  },
  {
   "cell_type": "code",
   "execution_count": null,
   "id": "7f81b3ae-ebae-4385-8d7a-b28aa0429bf4",
   "metadata": {
    "tags": []
   },
   "outputs": [],
   "source": [
    "generate_prompt(\"attractive tall man, short hair, black eyes, ultra photo realistic\", negative_prompts=[\"hand\"])"
   ]
  },
  {
   "cell_type": "code",
   "execution_count": null,
   "id": "010db70f-b6e2-45aa-82e1-2fd5e346ef39",
   "metadata": {
    "tags": []
   },
   "outputs": [],
   "source": [
    "generate_prompt(\"side view, attractive tall man, grey hair, black eyes, young, ultra photo realistic\", negative_prompts=[\"hand\",\"facial hair\"])"
   ]
  },
  {
   "cell_type": "code",
   "execution_count": null,
   "id": "422bb235-6886-4d87-9a6d-35f605882670",
   "metadata": {
    "tags": []
   },
   "outputs": [],
   "source": [
    "generate_prompt(\"think of a human face, then draw with four different views of front, back, left side and right side, photo realistic\", negative_prompts=[\"limbs\"])"
   ]
  },
  {
   "cell_type": "code",
   "execution_count": null,
   "id": "ce5d07be-750e-47df-aede-e87011bad278",
   "metadata": {},
   "outputs": [],
   "source": [
    "generate_prompt(\"an attrative Latina, face with smiling expression. Tinsel in the hair\", negative_prompts=[\"body\"])"
   ]
  },
  {
   "cell_type": "code",
   "execution_count": null,
   "id": "28ac428c-65f3-4cdb-8de7-260fdc9ceb55",
   "metadata": {
    "tags": []
   },
   "outputs": [],
   "source": [
    "generate_prompt(\"a repulsive looking face\", negative_prompts=[\"body\"])"
   ]
  },
  {
   "cell_type": "code",
   "execution_count": null,
   "id": "20d449e9-976a-47be-8b38-340845fa0d7a",
   "metadata": {
    "tags": []
   },
   "outputs": [],
   "source": [
    "generate_prompt(\"create a person with the body of an animal with the face of a human. show the full body and head\")"
   ]
  },
  {
   "cell_type": "code",
   "execution_count": null,
   "id": "56680f90-d674-4b55-a019-24bdaf68a329",
   "metadata": {
    "tags": []
   },
   "outputs": [],
   "source": [
    "#Using some ChatGPT generated prompts based on my questions asking for prompt suggestions"
   ]
  },
  {
   "cell_type": "code",
   "execution_count": null,
   "id": "d3c426c4-e3bc-4d31-aff0-e685ba1f952c",
   "metadata": {
    "tags": []
   },
   "outputs": [],
   "source": [
    "def generate_array(prompts):\n",
    "    for prompt in prompts:\n",
    "        generate_prompt(prompt)"
   ]
  },
  {
   "cell_type": "code",
   "execution_count": null,
   "id": "d29f2f18-6aa4-49b3-85b6-1d5e8b8bb1c6",
   "metadata": {
    "tags": []
   },
   "outputs": [],
   "source": [
    "image_generation_prompts = [\n",
    "    \"Generate a portrait of an elderly man with a kind smile and wise eyes.\",\n",
    "    \"Create a realistic image of a young woman with curly hair and piercing green eyes.\",\n",
    "    \"Generate a portrait of a young man with a rugged look and a slight beard.\",\n",
    "    \"Create an image of a middle-aged woman with short hair and a friendly expression.\",\n",
    "    \"Generate a portrait of a woman with rosy cheeks and bright eyes, full of wonder and curiosity.\",\n",
    "    \"Create an image of a person with a serious expression and strong facial features.\",\n",
    "    \"Generate a portrait of a woman with a unique hairstyle and bold makeup.\",\n",
    "    \"Create an image of a man with a beard and glasses, looking contemplative.\",\n",
    "    \"Generate a portrait of a person with piercing blue eyes and a mysterious expression.\",\n",
    "    \"Create an image of a person with a bright smile and sparkling eyes, radiating happiness and joy.\"\n",
    "]\n",
    "generate_array(image_generation_prompts)"
   ]
  },
  {
   "cell_type": "code",
   "execution_count": null,
   "id": "7f7a2427-d966-4c85-a215-eaef5998203d",
   "metadata": {
    "tags": []
   },
   "outputs": [],
   "source": [
    "image_generation_prompts = [\n",
    "    \"Imagine you're flying on the back of a giant eagle, soaring over mountains and valleys, feeling the wind rushing through your hair.\\n\",\n",
    "    \"Picture yourself walking through a forest of glowing mushrooms, the light casting a surreal glow over everything around you.\\n\",\n",
    "    \"You find yourself in a magical library, where every book holds a world of its own. You can choose any book and step into its pages, living out the story as if it were real.\\n\",\n",
    "    \"You step through a shimmering portal into a world of floating islands and soaring airships, where the sky is an endless expanse of vibrant colors and you can explore to your heart's content.\\n\",\n",
    "    \"You're a guest at a royal ball, where you dance the night away with elegant and exotic creatures from all corners of the realm, the music carrying you away into a world of enchantment.\\n\",\n",
    "    \"You venture deep into a mysterious cavern, where you find a glowing crystal that shows you visions of distant lands and times, revealing secrets of the universe.\\n\",\n",
    "    \"You awaken in a magical garden, filled with strange and wondrous creatures, each with a unique power or gift to share with you.\\n\",\n",
    "    \"You find yourself on a vast plain, surrounded by a circle of standing stones, and you suddenly realize that you have the power to control the elements of nature - the wind, the rain, the sun, and the earth.\\n\",\n",
    "    \"You're on a quest to find a legendary artifact, journeying through dark forests, treacherous mountains, and ancient ruins, facing challenges and meeting allies along the way.\\n\",\n",
    "    \"You discover a hidden portal that takes you to a realm of dreams, where you can explore the subconscious mind and unlock the secrets of the human psyche.\\n\"\n",
    "]\n",
    "generate_array(image_generation_prompts)"
   ]
  },
  {
   "cell_type": "code",
   "execution_count": null,
   "id": "f23a3b61-9846-4bad-8006-0b7ac5589719",
   "metadata": {
    "tags": []
   },
   "outputs": [],
   "source": [
    "image_generation_prompts = [\n",
    "    \"Imagine you're standing in the heart of New York City's Times Square, surrounded by the bright lights and buzzing energy of one of the world's most famous destinations. The towering billboards and electronic displays flash advertisements and messages, while street performers and vendors add to the lively atmosphere. You can feel the pulse of the city as people from all over the world rush past you, each on their own mission.\",  \n",
    "    \"Picture yourself walking through the ornate halls of Buckingham Palace, home to the British royal family and a symbol of centuries of history and tradition. You can hear the echo of your footsteps on the marble floors as you take in the opulent furnishings and intricate artwork. You might even catch a glimpse of a member of the royal family, as they move through the palace's private chambers.\",  \n",
    "    \"You find yourself on the beaches of Rio de Janeiro, where you can dance the samba, play soccer on the sand, and soak up the vibrant culture of one of Brazil's most iconic cities. The warm sand and cool ocean breeze invite you to relax and enjoy the sun, while the sounds of music and laughter fill the air. You can taste the delicious local cuisine and join in the lively conversation with the friendly locals.\",  \n",
    "    \"You're sitting in the front row of a concert by your favorite musician, feeling the energy and excitement of the crowd and losing yourself in the music. The lights and sound of the show are intense, and you can feel the bass vibrating through your body. You might even get a chance to meet the artist backstage after the show.\",  \n",
    "    \"You're exploring the winding streets and hidden alleyways of Venice, Italy, admiring the historic architecture and charming canals of this timeless and romantic city. You can smell the aroma of freshly baked bread and hear the sound of church bells ringing in the distance. The gondolas and water taxis glide past you on the shimmering canals, adding to the magical atmosphere.\",  \n",
    "    \"You're at the top of the Eiffel Tower, looking out over the City of Lights and marveling at the breathtaking views of one of the world's most famous landmarks. The city below spreads out before you like a patchwork quilt, with the Seine River winding through the heart of it. You can see the iconic buildings and monuments of Paris from a unique perspective, and feel the breeze as it rushes by you at this lofty height.\",  \n",
    "    \"You find yourself in the heart of Tokyo, surrounded by the neon lights and vibrant culture of one of the world's most bustling and dynamic cities. The streets are packed with people, all moving with purpose and urgency. The food stalls and restaurants offer a dizzying array of options, while the anime shops and karaoke bars are testament to the city's unique blend of old and new.\",  \n",
    "    \"You're at a Hollywood movie premiere, walking the red carpet and rubbing shoulders with some of the biggest names in the entertainment industry. The cameras flash as you strike a pose for the paparazzi, and you can hear the murmur of excited fans gathered behind the velvet ropes. The air is electric with anticipation as you make your way into the theater to watch the latest blockbuster film.\",  \n",
    "    \"You're standing in front of the Great Pyramid of Giza, one of the most famous and awe-inspiring structures in human history, marveling at the scale and craftsmanship of this ancient wonder. The sun beats down on the sandy landscape as you take in the enormity of the pyramid, which has stood for more than 4,500 years. You can feel the weight of history and culture as you stand in its shadow.\",  \n",
    "    \"You're sitting in the stands at the Super Bowl, watching the biggestfootball game of the year with millions of viewers tuning in around the world. The atmosphere is electric as the two teams take to the field, and you can feel the excitement building with every play. The halftime show is a spectacle of music and dance, while the commercials are some of the most talked-about of the year. You can taste the salty snacks and cold drinks as you cheer on your favorite team to victory.\" ]\n",
    "\n",
    "generate_array(image_generation_prompts)"
   ]
  },
  {
   "cell_type": "code",
   "execution_count": null,
   "id": "1896aad1-250e-46ad-9af9-1f2a9c10f046",
   "metadata": {
    "tags": []
   },
   "outputs": [],
   "source": [
    "emotions_with_descriptions = [\n",
    "    \"Emotion: Happiness\\nFacial Expression: A genuine smile, often with raised cheeks and crinkling at the corners of the eyes (crow's feet).\\nDescription: Happiness is characterized by a positive and joyful feeling. The smile is warm and welcoming, and the eyes appear bright and engaged.\",\n",
    "    \"Emotion: Sadness\\nFacial Expression: Downturned corners of the mouth, drooping eyelids, and a furrowed brow.\\nDescription: Sadness reflects a feeling of sorrow or unhappiness. The facial expression may appear dejected and lack the energy associated with other emotions.\",\n",
    "    \"Emotion: Anger\\nFacial Expression: Furrowed eyebrows, narrowed eyes, tensed jaw, and tightened lips.\\nDescription: Anger is marked by a feeling of hostility or frustration. The facial expression is intense, with the focus often on the eyes and mouth.\",\n",
    "    \"Emotion: Surprise\\nFacial Expression: Widened eyes, raised eyebrows, and an open mouth.\\nDescription: Surprise is characterized by a sudden and unexpected reaction to something. The facial expression conveys astonishment and can be accompanied by a quick inhalation.\",\n",
    "    \"Emotion: Fear\\nFacial Expression: Wide-open eyes, raised eyebrows, open mouth, and tensed facial muscles.\\nDescription: Fear is a response to a perceived threat or danger. The facial expression is marked by heightened alertness and readiness for a fight-or-flight response.\",\n",
    "    \"Emotion: Disgust\\nFacial Expression: Wrinkled nose, raised upper lip, and a squinting or narrowing of the eyes.\\nDescription: Disgust is a reaction to something unpleasant or offensive. The facial expression often reflects a sense of aversion.\",\n",
    "    \"Emotion: Contempt\\nFacial Expression: One corner of the mouth raised in a sneer or smirk, along with a slight raising of the chin.\\nDescription: Contempt signifies a feeling of superiority or disdain for someone or something. The facial expression conveys a sense of arrogance.\",\n",
    "    \"Emotion: Joy\\nFacial Expression: Bright eyes, wide smile, raised cheeks, and an open and relaxed posture.\\nDescription: Joy represents a deeper, more intense form of happiness. The facial expression is exuberant and may include laughter or other expressions of delight.\",\n",
    "    \"Emotion: Confusion\\nFacial Expression: Furrowed brow, tilted head, and a puzzled or uncertain look.\\nDescription: Confusion arises when there is uncertainty or lack of understanding. The facial expression often conveys a sense of searching for answers.\",\n",
    "    \"Emotion: Contemplation\\nFacial Expression: Chin resting on the hand, raised eyebrows, and a thoughtful gaze.\\nDescription: Contemplation reflects deep thinking or introspection. The facial expression indicates a person lost in thought.\"\n",
    "]\n",
    "\n",
    "generate_array(emotions_with_descriptions)\n"
   ]
  },
  {
   "cell_type": "code",
   "execution_count": null,
   "id": "5a501d84-2a43-41f0-8669-6674dcd13775",
   "metadata": {
    "tags": []
   },
   "outputs": [],
   "source": [
    "generate_prompt(\"A pokemon dragon princess\")"
   ]
  },
  {
   "cell_type": "code",
   "execution_count": null,
   "id": "bec291a1-8935-4682-ae33-1026998191de",
   "metadata": {},
   "outputs": [],
   "source": []
  },
  {
   "cell_type": "code",
   "execution_count": null,
   "id": "0cea1ae4-5241-48a5-905d-31737f84fbfe",
   "metadata": {
    "tags": []
   },
   "outputs": [],
   "source": [
    "#Delete to stop incurring cost\n",
    "!aws sagemaker list-endpoints\n",
    "deployed_model.sagemaker_session.delete_endpoint(endpoint_name)"
   ]
  },
  {
   "cell_type": "code",
   "execution_count": null,
   "id": "a6cc968b-8a1d-485b-b22a-c63a6dd89d1c",
   "metadata": {},
   "outputs": [],
   "source": [
    "!aws sagemaker list-endpoints"
   ]
  },
  {
   "cell_type": "code",
   "execution_count": null,
   "id": "23af5373-87ab-4259-9313-ac61c7f7cf73",
   "metadata": {},
   "outputs": [],
   "source": []
  }
 ],
 "metadata": {
  "availableInstances": [
   {
    "_defaultOrder": 0,
    "_isFastLaunch": true,
    "category": "General purpose",
    "gpuNum": 0,
    "hideHardwareSpecs": false,
    "memoryGiB": 4,
    "name": "ml.t3.medium",
    "vcpuNum": 2
   },
   {
    "_defaultOrder": 1,
    "_isFastLaunch": false,
    "category": "General purpose",
    "gpuNum": 0,
    "hideHardwareSpecs": false,
    "memoryGiB": 8,
    "name": "ml.t3.large",
    "vcpuNum": 2
   },
   {
    "_defaultOrder": 2,
    "_isFastLaunch": false,
    "category": "General purpose",
    "gpuNum": 0,
    "hideHardwareSpecs": false,
    "memoryGiB": 16,
    "name": "ml.t3.xlarge",
    "vcpuNum": 4
   },
   {
    "_defaultOrder": 3,
    "_isFastLaunch": false,
    "category": "General purpose",
    "gpuNum": 0,
    "hideHardwareSpecs": false,
    "memoryGiB": 32,
    "name": "ml.t3.2xlarge",
    "vcpuNum": 8
   },
   {
    "_defaultOrder": 4,
    "_isFastLaunch": true,
    "category": "General purpose",
    "gpuNum": 0,
    "hideHardwareSpecs": false,
    "memoryGiB": 8,
    "name": "ml.m5.large",
    "vcpuNum": 2
   },
   {
    "_defaultOrder": 5,
    "_isFastLaunch": false,
    "category": "General purpose",
    "gpuNum": 0,
    "hideHardwareSpecs": false,
    "memoryGiB": 16,
    "name": "ml.m5.xlarge",
    "vcpuNum": 4
   },
   {
    "_defaultOrder": 6,
    "_isFastLaunch": false,
    "category": "General purpose",
    "gpuNum": 0,
    "hideHardwareSpecs": false,
    "memoryGiB": 32,
    "name": "ml.m5.2xlarge",
    "vcpuNum": 8
   },
   {
    "_defaultOrder": 7,
    "_isFastLaunch": false,
    "category": "General purpose",
    "gpuNum": 0,
    "hideHardwareSpecs": false,
    "memoryGiB": 64,
    "name": "ml.m5.4xlarge",
    "vcpuNum": 16
   },
   {
    "_defaultOrder": 8,
    "_isFastLaunch": false,
    "category": "General purpose",
    "gpuNum": 0,
    "hideHardwareSpecs": false,
    "memoryGiB": 128,
    "name": "ml.m5.8xlarge",
    "vcpuNum": 32
   },
   {
    "_defaultOrder": 9,
    "_isFastLaunch": false,
    "category": "General purpose",
    "gpuNum": 0,
    "hideHardwareSpecs": false,
    "memoryGiB": 192,
    "name": "ml.m5.12xlarge",
    "vcpuNum": 48
   },
   {
    "_defaultOrder": 10,
    "_isFastLaunch": false,
    "category": "General purpose",
    "gpuNum": 0,
    "hideHardwareSpecs": false,
    "memoryGiB": 256,
    "name": "ml.m5.16xlarge",
    "vcpuNum": 64
   },
   {
    "_defaultOrder": 11,
    "_isFastLaunch": false,
    "category": "General purpose",
    "gpuNum": 0,
    "hideHardwareSpecs": false,
    "memoryGiB": 384,
    "name": "ml.m5.24xlarge",
    "vcpuNum": 96
   },
   {
    "_defaultOrder": 12,
    "_isFastLaunch": false,
    "category": "General purpose",
    "gpuNum": 0,
    "hideHardwareSpecs": false,
    "memoryGiB": 8,
    "name": "ml.m5d.large",
    "vcpuNum": 2
   },
   {
    "_defaultOrder": 13,
    "_isFastLaunch": false,
    "category": "General purpose",
    "gpuNum": 0,
    "hideHardwareSpecs": false,
    "memoryGiB": 16,
    "name": "ml.m5d.xlarge",
    "vcpuNum": 4
   },
   {
    "_defaultOrder": 14,
    "_isFastLaunch": false,
    "category": "General purpose",
    "gpuNum": 0,
    "hideHardwareSpecs": false,
    "memoryGiB": 32,
    "name": "ml.m5d.2xlarge",
    "vcpuNum": 8
   },
   {
    "_defaultOrder": 15,
    "_isFastLaunch": false,
    "category": "General purpose",
    "gpuNum": 0,
    "hideHardwareSpecs": false,
    "memoryGiB": 64,
    "name": "ml.m5d.4xlarge",
    "vcpuNum": 16
   },
   {
    "_defaultOrder": 16,
    "_isFastLaunch": false,
    "category": "General purpose",
    "gpuNum": 0,
    "hideHardwareSpecs": false,
    "memoryGiB": 128,
    "name": "ml.m5d.8xlarge",
    "vcpuNum": 32
   },
   {
    "_defaultOrder": 17,
    "_isFastLaunch": false,
    "category": "General purpose",
    "gpuNum": 0,
    "hideHardwareSpecs": false,
    "memoryGiB": 192,
    "name": "ml.m5d.12xlarge",
    "vcpuNum": 48
   },
   {
    "_defaultOrder": 18,
    "_isFastLaunch": false,
    "category": "General purpose",
    "gpuNum": 0,
    "hideHardwareSpecs": false,
    "memoryGiB": 256,
    "name": "ml.m5d.16xlarge",
    "vcpuNum": 64
   },
   {
    "_defaultOrder": 19,
    "_isFastLaunch": false,
    "category": "General purpose",
    "gpuNum": 0,
    "hideHardwareSpecs": false,
    "memoryGiB": 384,
    "name": "ml.m5d.24xlarge",
    "vcpuNum": 96
   },
   {
    "_defaultOrder": 20,
    "_isFastLaunch": false,
    "category": "General purpose",
    "gpuNum": 0,
    "hideHardwareSpecs": true,
    "memoryGiB": 0,
    "name": "ml.geospatial.interactive",
    "supportedImageNames": [
     "sagemaker-geospatial-v1-0"
    ],
    "vcpuNum": 0
   },
   {
    "_defaultOrder": 21,
    "_isFastLaunch": true,
    "category": "Compute optimized",
    "gpuNum": 0,
    "hideHardwareSpecs": false,
    "memoryGiB": 4,
    "name": "ml.c5.large",
    "vcpuNum": 2
   },
   {
    "_defaultOrder": 22,
    "_isFastLaunch": false,
    "category": "Compute optimized",
    "gpuNum": 0,
    "hideHardwareSpecs": false,
    "memoryGiB": 8,
    "name": "ml.c5.xlarge",
    "vcpuNum": 4
   },
   {
    "_defaultOrder": 23,
    "_isFastLaunch": false,
    "category": "Compute optimized",
    "gpuNum": 0,
    "hideHardwareSpecs": false,
    "memoryGiB": 16,
    "name": "ml.c5.2xlarge",
    "vcpuNum": 8
   },
   {
    "_defaultOrder": 24,
    "_isFastLaunch": false,
    "category": "Compute optimized",
    "gpuNum": 0,
    "hideHardwareSpecs": false,
    "memoryGiB": 32,
    "name": "ml.c5.4xlarge",
    "vcpuNum": 16
   },
   {
    "_defaultOrder": 25,
    "_isFastLaunch": false,
    "category": "Compute optimized",
    "gpuNum": 0,
    "hideHardwareSpecs": false,
    "memoryGiB": 72,
    "name": "ml.c5.9xlarge",
    "vcpuNum": 36
   },
   {
    "_defaultOrder": 26,
    "_isFastLaunch": false,
    "category": "Compute optimized",
    "gpuNum": 0,
    "hideHardwareSpecs": false,
    "memoryGiB": 96,
    "name": "ml.c5.12xlarge",
    "vcpuNum": 48
   },
   {
    "_defaultOrder": 27,
    "_isFastLaunch": false,
    "category": "Compute optimized",
    "gpuNum": 0,
    "hideHardwareSpecs": false,
    "memoryGiB": 144,
    "name": "ml.c5.18xlarge",
    "vcpuNum": 72
   },
   {
    "_defaultOrder": 28,
    "_isFastLaunch": false,
    "category": "Compute optimized",
    "gpuNum": 0,
    "hideHardwareSpecs": false,
    "memoryGiB": 192,
    "name": "ml.c5.24xlarge",
    "vcpuNum": 96
   },
   {
    "_defaultOrder": 29,
    "_isFastLaunch": true,
    "category": "Accelerated computing",
    "gpuNum": 1,
    "hideHardwareSpecs": false,
    "memoryGiB": 16,
    "name": "ml.g4dn.xlarge",
    "vcpuNum": 4
   },
   {
    "_defaultOrder": 30,
    "_isFastLaunch": false,
    "category": "Accelerated computing",
    "gpuNum": 1,
    "hideHardwareSpecs": false,
    "memoryGiB": 32,
    "name": "ml.g4dn.2xlarge",
    "vcpuNum": 8
   },
   {
    "_defaultOrder": 31,
    "_isFastLaunch": false,
    "category": "Accelerated computing",
    "gpuNum": 1,
    "hideHardwareSpecs": false,
    "memoryGiB": 64,
    "name": "ml.g4dn.4xlarge",
    "vcpuNum": 16
   },
   {
    "_defaultOrder": 32,
    "_isFastLaunch": false,
    "category": "Accelerated computing",
    "gpuNum": 1,
    "hideHardwareSpecs": false,
    "memoryGiB": 128,
    "name": "ml.g4dn.8xlarge",
    "vcpuNum": 32
   },
   {
    "_defaultOrder": 33,
    "_isFastLaunch": false,
    "category": "Accelerated computing",
    "gpuNum": 4,
    "hideHardwareSpecs": false,
    "memoryGiB": 192,
    "name": "ml.g4dn.12xlarge",
    "vcpuNum": 48
   },
   {
    "_defaultOrder": 34,
    "_isFastLaunch": false,
    "category": "Accelerated computing",
    "gpuNum": 1,
    "hideHardwareSpecs": false,
    "memoryGiB": 256,
    "name": "ml.g4dn.16xlarge",
    "vcpuNum": 64
   },
   {
    "_defaultOrder": 35,
    "_isFastLaunch": false,
    "category": "Accelerated computing",
    "gpuNum": 1,
    "hideHardwareSpecs": false,
    "memoryGiB": 61,
    "name": "ml.p3.2xlarge",
    "vcpuNum": 8
   },
   {
    "_defaultOrder": 36,
    "_isFastLaunch": false,
    "category": "Accelerated computing",
    "gpuNum": 4,
    "hideHardwareSpecs": false,
    "memoryGiB": 244,
    "name": "ml.p3.8xlarge",
    "vcpuNum": 32
   },
   {
    "_defaultOrder": 37,
    "_isFastLaunch": false,
    "category": "Accelerated computing",
    "gpuNum": 8,
    "hideHardwareSpecs": false,
    "memoryGiB": 488,
    "name": "ml.p3.16xlarge",
    "vcpuNum": 64
   },
   {
    "_defaultOrder": 38,
    "_isFastLaunch": false,
    "category": "Accelerated computing",
    "gpuNum": 8,
    "hideHardwareSpecs": false,
    "memoryGiB": 768,
    "name": "ml.p3dn.24xlarge",
    "vcpuNum": 96
   },
   {
    "_defaultOrder": 39,
    "_isFastLaunch": false,
    "category": "Memory Optimized",
    "gpuNum": 0,
    "hideHardwareSpecs": false,
    "memoryGiB": 16,
    "name": "ml.r5.large",
    "vcpuNum": 2
   },
   {
    "_defaultOrder": 40,
    "_isFastLaunch": false,
    "category": "Memory Optimized",
    "gpuNum": 0,
    "hideHardwareSpecs": false,
    "memoryGiB": 32,
    "name": "ml.r5.xlarge",
    "vcpuNum": 4
   },
   {
    "_defaultOrder": 41,
    "_isFastLaunch": false,
    "category": "Memory Optimized",
    "gpuNum": 0,
    "hideHardwareSpecs": false,
    "memoryGiB": 64,
    "name": "ml.r5.2xlarge",
    "vcpuNum": 8
   },
   {
    "_defaultOrder": 42,
    "_isFastLaunch": false,
    "category": "Memory Optimized",
    "gpuNum": 0,
    "hideHardwareSpecs": false,
    "memoryGiB": 128,
    "name": "ml.r5.4xlarge",
    "vcpuNum": 16
   },
   {
    "_defaultOrder": 43,
    "_isFastLaunch": false,
    "category": "Memory Optimized",
    "gpuNum": 0,
    "hideHardwareSpecs": false,
    "memoryGiB": 256,
    "name": "ml.r5.8xlarge",
    "vcpuNum": 32
   },
   {
    "_defaultOrder": 44,
    "_isFastLaunch": false,
    "category": "Memory Optimized",
    "gpuNum": 0,
    "hideHardwareSpecs": false,
    "memoryGiB": 384,
    "name": "ml.r5.12xlarge",
    "vcpuNum": 48
   },
   {
    "_defaultOrder": 45,
    "_isFastLaunch": false,
    "category": "Memory Optimized",
    "gpuNum": 0,
    "hideHardwareSpecs": false,
    "memoryGiB": 512,
    "name": "ml.r5.16xlarge",
    "vcpuNum": 64
   },
   {
    "_defaultOrder": 46,
    "_isFastLaunch": false,
    "category": "Memory Optimized",
    "gpuNum": 0,
    "hideHardwareSpecs": false,
    "memoryGiB": 768,
    "name": "ml.r5.24xlarge",
    "vcpuNum": 96
   },
   {
    "_defaultOrder": 47,
    "_isFastLaunch": false,
    "category": "Accelerated computing",
    "gpuNum": 1,
    "hideHardwareSpecs": false,
    "memoryGiB": 16,
    "name": "ml.g5.xlarge",
    "vcpuNum": 4
   },
   {
    "_defaultOrder": 48,
    "_isFastLaunch": false,
    "category": "Accelerated computing",
    "gpuNum": 1,
    "hideHardwareSpecs": false,
    "memoryGiB": 32,
    "name": "ml.g5.2xlarge",
    "vcpuNum": 8
   },
   {
    "_defaultOrder": 49,
    "_isFastLaunch": false,
    "category": "Accelerated computing",
    "gpuNum": 1,
    "hideHardwareSpecs": false,
    "memoryGiB": 64,
    "name": "ml.g5.4xlarge",
    "vcpuNum": 16
   },
   {
    "_defaultOrder": 50,
    "_isFastLaunch": false,
    "category": "Accelerated computing",
    "gpuNum": 1,
    "hideHardwareSpecs": false,
    "memoryGiB": 128,
    "name": "ml.g5.8xlarge",
    "vcpuNum": 32
   },
   {
    "_defaultOrder": 51,
    "_isFastLaunch": false,
    "category": "Accelerated computing",
    "gpuNum": 1,
    "hideHardwareSpecs": false,
    "memoryGiB": 256,
    "name": "ml.g5.16xlarge",
    "vcpuNum": 64
   },
   {
    "_defaultOrder": 52,
    "_isFastLaunch": false,
    "category": "Accelerated computing",
    "gpuNum": 4,
    "hideHardwareSpecs": false,
    "memoryGiB": 192,
    "name": "ml.g5.12xlarge",
    "vcpuNum": 48
   },
   {
    "_defaultOrder": 53,
    "_isFastLaunch": false,
    "category": "Accelerated computing",
    "gpuNum": 4,
    "hideHardwareSpecs": false,
    "memoryGiB": 384,
    "name": "ml.g5.24xlarge",
    "vcpuNum": 96
   },
   {
    "_defaultOrder": 54,
    "_isFastLaunch": false,
    "category": "Accelerated computing",
    "gpuNum": 8,
    "hideHardwareSpecs": false,
    "memoryGiB": 768,
    "name": "ml.g5.48xlarge",
    "vcpuNum": 192
   },
   {
    "_defaultOrder": 55,
    "_isFastLaunch": false,
    "category": "Accelerated computing",
    "gpuNum": 8,
    "hideHardwareSpecs": false,
    "memoryGiB": 1152,
    "name": "ml.p4d.24xlarge",
    "vcpuNum": 96
   },
   {
    "_defaultOrder": 56,
    "_isFastLaunch": false,
    "category": "Accelerated computing",
    "gpuNum": 8,
    "hideHardwareSpecs": false,
    "memoryGiB": 1152,
    "name": "ml.p4de.24xlarge",
    "vcpuNum": 96
   }
  ],
  "kernelspec": {
   "display_name": "Python 3 (Data Science 3.0)",
   "language": "python",
   "name": "python3__SAGEMAKER_INTERNAL__arn:aws:sagemaker:us-east-1:081325390199:image/sagemaker-data-science-310-v1"
  },
  "language_info": {
   "codemirror_mode": {
    "name": "ipython",
    "version": 3
   },
   "file_extension": ".py",
   "mimetype": "text/x-python",
   "name": "python",
   "nbconvert_exporter": "python",
   "pygments_lexer": "ipython3",
   "version": "3.10.6"
  }
 },
 "nbformat": 4,
 "nbformat_minor": 5
}
